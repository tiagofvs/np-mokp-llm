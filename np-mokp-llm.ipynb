{
  "nbformat": 4,
  "nbformat_minor": 0,
  "metadata": {
    "colab": {
      "provenance": []
    },
    "kernelspec": {
      "name": "python3",
      "display_name": "Python 3"
    },
    "language_info": {
      "name": "python"
    }
  },
  "cells": [
    {
      "cell_type": "code",
      "source": [
        "import sys\n",
        "print(sys.version)"
      ],
      "metadata": {
        "colab": {
          "base_uri": "https://localhost:8080/"
        },
        "id": "VJHIhI63od4D",
        "outputId": "e741b7c3-3b72-4a29-edcb-7278e4fc9f11"
      },
      "execution_count": null,
      "outputs": [
        {
          "output_type": "stream",
          "name": "stdout",
          "text": [
            "3.10.12 (main, Nov  6 2024, 20:22:13) [GCC 11.4.0]\n"
          ]
        }
      ]
    },
    {
      "cell_type": "code",
      "source": [
        "#Biblioteca para para gerar todas as combinações possíveis de um tamanho específico a partir de um iterável. Permite criar subconjuntos de elementos sem repetição e em diferentes ordens.\n",
        "from itertools import combinations\n",
        "\n",
        "#Biblioteca para contagem de elementos em um iterável, como uma lista, string ou conjunto de dados. Cria um dicionário onde as chaves são os elementos e os valores são suas frequências\n",
        "from collections import Counter\n",
        "\n",
        "# Definindo os itens com seus respectivos valores para cada critério\n",
        "prtf_it = {\n",
        "    \"prtf_it_01\": [15, 20, 30, 25],\n",
        "    \"prtf_it_02\": [10, 25, 20, 30],\n",
        "    \"prtf_it_03\": [40, 10, 25, 20],\n",
        "    \"prtf_it_04\": [30, 35, 15, 10],\n",
        "    \"prtf_it_05\": [25, 30, 35, 20],\n",
        "    \"prtf_it_06\": [20, 40, 10, 10],\n",
        "    \"prtf_it_07\": [15, 10, 40, 25],\n",
        "    \"prtf_it_08\": [30, 20, 15, 40],\n",
        "    \"prtf_it_09\": [25, 15, 30, 35],\n",
        "    \"prtf_it_10\": [35, 25, 20, 10],\n",
        "    \"prtf_it_11\": [20, 30, 25, 10],\n",
        "    \"prtf_it_12\": [40, 20, 10, 30],\n",
        "    \"prtf_it_13\": [30, 25, 35, 15],\n",
        "    \"prtf_it_14\": [10, 15, 20, 40],\n",
        "    \"prtf_it_15\": [25, 30, 15, 35],\n",
        "    \"prtf_it_16\": [20, 35, 25, 10]\n",
        "}\n",
        "\n",
        "# Pesos dos critérios\n",
        "pesos = {\"CRIT_A\": 0.40, \"CRIT_B\": 0.30, \"CRIT_C\": 0.20, \"CRIT_D\": 0.10}\n",
        "criterios = list(pesos.keys())\n"
      ],
      "metadata": {
        "id": "CnzsDfXELKpq"
      },
      "execution_count": null,
      "outputs": []
    },
    {
      "cell_type": "code",
      "source": [
        "# Função para calcular a soma de um critério específico para um subconjunto de itens\n",
        "def calcular_soma_criterio(subconjunto, criterio_idx):\n",
        "    return sum(item[criterio_idx] for _, item in subconjunto)"
      ],
      "metadata": {
        "id": "chGAMal80kWM"
      },
      "execution_count": null,
      "outputs": []
    },
    {
      "cell_type": "code",
      "source": [
        "# Calcula a pontuação ponderada total de um subconjunto de itens considerando todos os critérios e seus respectivos pesos.\n",
        "def calcular_score_ponderado(subconjunto):\n",
        "    score_total = 0\n",
        "    for i, criterio in enumerate(criterios):\n",
        "        soma_criterio = calcular_soma_criterio(subconjunto, i)\n",
        "\n",
        "        if criterio == \"CRIT_D\":\n",
        "            soma_criterio = 500-soma_criterio\n",
        "\n",
        "        # Aplica o peso do critério na soma ponderada\n",
        "        score_total += pesos[criterio] * soma_criterio\n",
        "    return score_total"
      ],
      "metadata": {
        "id": "tstkajF90WMs"
      },
      "execution_count": null,
      "outputs": []
    },
    {
      "cell_type": "code",
      "source": [
        "# Função para selecionar subconjuntos de até 5 itens com base nos critérios. Seleciona subconjuntos de itens que maximizam ou minimizam scores para critérios específicos e identifica o subconjunto com maior score ponderado.\n",
        "def selecionar_subconjunto_por_criterio(itens):\n",
        "    melhor_subconjunto_por_criterio = { \"CRIT_A\": [], \"CRIT_B\": [], \"CRIT_C\": [], \"CRIT_D\": [] }\n",
        "    melhor_score_por_criterio = { \"CRIT_A\": float('-inf'), \"CRIT_B\": float('-inf'), \"CRIT_C\": float('-inf'), \"CRIT_D\": float('inf') }\n",
        "    melhores_subconjuntos = {\"CRIT_A\": [], \"CRIT_B\": [], \"CRIT_C\": [], \"CRIT_D\": []}\n",
        "\n",
        "# Variáveis para o melhor subconjunto ponderado\n",
        "    melhor_subconjunto_ponderado = []\n",
        "    melhor_score_ponderado = float('-inf')\n",
        "\n",
        "# Gerar apenas subconjuntos de tamanho 5\n",
        "    for subconjunto in combinations(itens.items(), 5):\n",
        "        for i, criterio in enumerate(criterios):\n",
        "            soma_criterio = calcular_soma_criterio(subconjunto, i)\n",
        "\n",
        "# Maximizar CRIT_A, CRIT_B, CRIT_C e minimizar CRIT_D\n",
        "            if criterio == \"CRIT_D\":\n",
        "                if soma_criterio < melhor_score_por_criterio[criterio]:\n",
        "                    melhor_score_por_criterio[criterio] = soma_criterio\n",
        "                    melhores_subconjuntos[criterio] = [subconjunto]\n",
        "                elif soma_criterio == melhor_score_por_criterio[criterio]:\n",
        "                    melhores_subconjuntos[criterio].append(subconjunto)\n",
        "            else:\n",
        "                if soma_criterio > melhor_score_por_criterio[criterio]:\n",
        "                    melhor_score_por_criterio[criterio] = soma_criterio\n",
        "                    melhores_subconjuntos[criterio] = [subconjunto]\n",
        "                elif soma_criterio == melhor_score_por_criterio[criterio]:\n",
        "                    melhores_subconjuntos[criterio].append(subconjunto)\n",
        "\n",
        "# Calcula o score ponderado do subconjunto atual\n",
        "            score_ponderado = calcular_score_ponderado(subconjunto)\n",
        "            if score_ponderado > melhor_score_ponderado:\n",
        "                melhor_score_ponderado = score_ponderado\n",
        "                melhor_subconjunto_ponderado = [subconjunto]\n",
        "            elif score_ponderado == melhor_score_ponderado:\n",
        "                melhor_subconjunto_ponderado.append(subconjunto)\n",
        "\n",
        "    return melhores_subconjuntos, melhor_score_por_criterio, melhor_subconjunto_ponderado, melhor_score_ponderado"
      ],
      "metadata": {
        "id": "nTfoo_C31kET"
      },
      "execution_count": null,
      "outputs": []
    },
    {
      "cell_type": "code",
      "source": [
        "# Executando a solução\n",
        "melhores_subconjuntos, melhor_score_por_criterio, melhor_subconjunto_ponderado, melhor_score_ponderado = selecionar_subconjunto_por_criterio(prtf_it)\n",
        "\n",
        "# Variável para armazenar os resultados\n",
        "resultados = {\"subconjuntos_criterios\": {}, \"subconjunto_ponderado\": []}\n",
        "\n",
        "# Criando o contador global para os itens\n",
        "contador_itens = Counter()\n",
        "\n",
        "# Armazenando e exibindo os melhores subconjuntos e seus scores para cada critério\n",
        "for criterio in criterios:\n",
        "    print(f\"\\nMelhores subconjuntos para {criterio}:\")\n",
        "    subconjuntos_criterio = []\n",
        "    for subconjunto in melhores_subconjuntos[criterio]:\n",
        "        itens = [item for item, _ in subconjunto]\n",
        "        subconjuntos_criterio.append(\", \".join(itens))\n",
        "        contador_itens.update(itens)\n",
        "        print(\", \".join(itens))\n",
        "    resultados[\"subconjuntos_criterios\"][criterio] = subconjuntos_criterio\n",
        "    print(f\"Score agregado para {criterio}: {melhor_score_por_criterio[criterio]:.2f}\")\n",
        "\n",
        "# Armazenando e exibindo a análise ponderada\n",
        "print(\"\\nMelhores subconjuntos ponderados:\")\n",
        "for subconjunto in melhor_subconjunto_ponderado:\n",
        "    itens = [item for item, _ in subconjunto]\n",
        "    resultados[\"subconjunto_ponderado\"].append(\", \".join(itens))\n",
        "    contador_itens.update(itens)\n",
        "    print(\", \".join(itens))\n",
        "resultados[\"score_ponderado\"] = melhor_score_ponderado\n",
        "print(f\"Score ponderado total: {melhor_score_ponderado:.2f}\")\n"
      ],
      "metadata": {
        "colab": {
          "base_uri": "https://localhost:8080/"
        },
        "id": "1YTFA-m4HsqV",
        "outputId": "9ec8e6e8-fdd5-4d7b-b118-b33436df94e9"
      },
      "execution_count": null,
      "outputs": [
        {
          "output_type": "stream",
          "name": "stdout",
          "text": [
            "\n",
            "Melhores subconjuntos para CRIT_A:\n",
            "prtf_it_03, prtf_it_04, prtf_it_08, prtf_it_10, prtf_it_12\n",
            "prtf_it_03, prtf_it_04, prtf_it_10, prtf_it_12, prtf_it_13\n",
            "prtf_it_03, prtf_it_08, prtf_it_10, prtf_it_12, prtf_it_13\n",
            "Score agregado para CRIT_A: 175.00\n",
            "\n",
            "Melhores subconjuntos para CRIT_B:\n",
            "prtf_it_04, prtf_it_05, prtf_it_06, prtf_it_11, prtf_it_16\n",
            "prtf_it_04, prtf_it_05, prtf_it_06, prtf_it_15, prtf_it_16\n",
            "prtf_it_04, prtf_it_06, prtf_it_11, prtf_it_15, prtf_it_16\n",
            "Score agregado para CRIT_B: 170.00\n",
            "\n",
            "Melhores subconjuntos para CRIT_C:\n",
            "prtf_it_01, prtf_it_05, prtf_it_07, prtf_it_09, prtf_it_13\n",
            "Score agregado para CRIT_C: 170.00\n",
            "\n",
            "Melhores subconjuntos para CRIT_D:\n",
            "prtf_it_04, prtf_it_06, prtf_it_10, prtf_it_11, prtf_it_16\n",
            "Score agregado para CRIT_D: 50.00\n",
            "\n",
            "Melhores subconjuntos ponderados:\n",
            "prtf_it_04, prtf_it_05, prtf_it_10, prtf_it_13, prtf_it_16\n",
            "prtf_it_04, prtf_it_05, prtf_it_10, prtf_it_13, prtf_it_16\n",
            "prtf_it_04, prtf_it_05, prtf_it_10, prtf_it_13, prtf_it_16\n",
            "prtf_it_04, prtf_it_05, prtf_it_10, prtf_it_13, prtf_it_16\n",
            "Score ponderado total: 170.50\n"
          ]
        }
      ]
    },
    {
      "cell_type": "code",
      "source": [
        "# Listando todos os itens distintos para cada critério\n",
        "itens_distintos = {criterio: set() for criterio in resultados[\"subconjuntos_criterios\"]}\n",
        "itens_distintos[\"PONDERADO\"] = set()\n",
        "\n",
        "# Preenchendo o conjunto de itens distintos para cada critério\n",
        "for criterio, subconjuntos in resultados[\"subconjuntos_criterios\"].items():\n",
        "    for subconjunto in subconjuntos:\n",
        "        itens = subconjunto.split(\", \")\n",
        "        itens_distintos[criterio].update(itens)\n",
        "\n",
        "# Preenchendo os itens distintos para o subconjunto ponderado\n",
        "for subconjunto in resultados[\"subconjunto_ponderado\"]:\n",
        "    itens = subconjunto.split(\", \")\n",
        "    itens_distintos[\"PONDERADO\"].update(itens)\n",
        "\n",
        "# Exibindo os itens distintos para cada critério\n",
        "print(\"\\nItens distintos por critério:\")\n",
        "for criterio, itens in itens_distintos.items():\n",
        "    print(f\"{criterio}: {', '.join(sorted(itens))}\")\n",
        "\n",
        "print(\"\\nContagem de ocorrências de itens:\")\n",
        "for item, count in contador_itens.items():\n",
        "    print(f\"{item}: {count}\")"
      ],
      "metadata": {
        "colab": {
          "base_uri": "https://localhost:8080/"
        },
        "id": "ixAkHtQtSztq",
        "outputId": "928d67f5-bc52-4ff0-edb4-dc7952141970"
      },
      "execution_count": null,
      "outputs": [
        {
          "output_type": "stream",
          "name": "stdout",
          "text": [
            "\n",
            "Itens distintos por critério:\n",
            "CRIT_A: prtf_it_03, prtf_it_04, prtf_it_08, prtf_it_10, prtf_it_12, prtf_it_13\n",
            "CRIT_B: prtf_it_04, prtf_it_05, prtf_it_06, prtf_it_11, prtf_it_15, prtf_it_16\n",
            "CRIT_C: prtf_it_01, prtf_it_05, prtf_it_07, prtf_it_09, prtf_it_13\n",
            "CRIT_D: prtf_it_04, prtf_it_06, prtf_it_10, prtf_it_11, prtf_it_16\n",
            "PONDERADO: prtf_it_04, prtf_it_05, prtf_it_10, prtf_it_13, prtf_it_16\n",
            "\n",
            "Contagem de ocorrências de itens:\n",
            "prtf_it_03: 3\n",
            "prtf_it_04: 10\n",
            "prtf_it_08: 2\n",
            "prtf_it_10: 8\n",
            "prtf_it_12: 3\n",
            "prtf_it_13: 7\n",
            "prtf_it_05: 7\n",
            "prtf_it_06: 4\n",
            "prtf_it_11: 3\n",
            "prtf_it_16: 8\n",
            "prtf_it_15: 2\n",
            "prtf_it_01: 1\n",
            "prtf_it_07: 1\n",
            "prtf_it_09: 1\n"
          ]
        }
      ]
    },
    {
      "cell_type": "code",
      "source": [
        "# Selecionando os 5 itens com maiores ocorrências\n",
        "itens_mais_frequentes = [item for item, _ in contador_itens.most_common(5)]\n",
        "print(\"\\nItens mais frequentes (top 5):\", itens_mais_frequentes)"
      ],
      "metadata": {
        "colab": {
          "base_uri": "https://localhost:8080/"
        },
        "id": "Ts8htbwxzGkv",
        "outputId": "90de8e2f-a467-4e40-f289-627c14c217e3"
      },
      "execution_count": null,
      "outputs": [
        {
          "output_type": "stream",
          "name": "stdout",
          "text": [
            "\n",
            "Itens mais frequentes (top 5): ['prtf_it_04', 'prtf_it_10', 'prtf_it_16', 'prtf_it_13', 'prtf_it_05']\n"
          ]
        }
      ]
    },
    {
      "cell_type": "code",
      "source": [
        "# Gerando subgrupos de 3 itens com pelo menos um item em comum com cada critério\n",
        "subgrupos = []\n",
        "\n",
        "# Função para verificar se pelo menos um item do subgrupo está em cada critério\n",
        "def validar_subgrupo(subgrupo):\n",
        "    for criterio, subconjuntos in resultados[\"subconjuntos_criterios\"].items():\n",
        "        if not any(item in subconjunto for subconjunto in subconjuntos for item in subgrupo):\n",
        "            return False\n",
        "    return True\n",
        "\n",
        "# Gerando combinações de 3 itens dos 5 mais frequentes e verificando a condição\n",
        "for subgrupo in combinations(itens_mais_frequentes, 3):\n",
        "    if validar_subgrupo(subgrupo):\n",
        "        subgrupos.append(subgrupo)\n",
        "\n",
        "# Exibindo os subgrupos válidos e os critérios em que cada item aparece\n",
        "print(\"\\nSubgrupos válidos com 3 itens mais frequentes (com pelo menos um item em cada critério):\")\n",
        "for subgrupo in subgrupos:\n",
        "    print(f\"\\nSubgrupo: {', '.join(subgrupo)}\")\n",
        "    for item in subgrupo:\n",
        "        criterios_presentes = []\n",
        "        for criterio, subconjuntos in resultados[\"subconjuntos_criterios\"].items():\n",
        "            if any(item in subconjunto for subconjunto in subconjuntos):\n",
        "                criterios_presentes.append(criterio)\n",
        "        print(f\"  {item} pertence aos seguintes critérios: {', '.join(criterios_presentes)}\")"
      ],
      "metadata": {
        "colab": {
          "base_uri": "https://localhost:8080/"
        },
        "id": "Xl2KK-4gSO1e",
        "outputId": "d2b73b59-f6fd-4253-8bb5-c524e8bff6eb"
      },
      "execution_count": null,
      "outputs": [
        {
          "output_type": "stream",
          "name": "stdout",
          "text": [
            "\n",
            "Subgrupos válidos com 3 itens mais frequentes (com pelo menos um item em cada critério):\n",
            "\n",
            "Subgrupo: prtf_it_04, prtf_it_10, prtf_it_13\n",
            "  prtf_it_04 pertence aos seguintes critérios: CRIT_A, CRIT_B, CRIT_D\n",
            "  prtf_it_10 pertence aos seguintes critérios: CRIT_A, CRIT_D\n",
            "  prtf_it_13 pertence aos seguintes critérios: CRIT_A, CRIT_C\n",
            "\n",
            "Subgrupo: prtf_it_04, prtf_it_10, prtf_it_05\n",
            "  prtf_it_04 pertence aos seguintes critérios: CRIT_A, CRIT_B, CRIT_D\n",
            "  prtf_it_10 pertence aos seguintes critérios: CRIT_A, CRIT_D\n",
            "  prtf_it_05 pertence aos seguintes critérios: CRIT_B, CRIT_C\n",
            "\n",
            "Subgrupo: prtf_it_04, prtf_it_16, prtf_it_13\n",
            "  prtf_it_04 pertence aos seguintes critérios: CRIT_A, CRIT_B, CRIT_D\n",
            "  prtf_it_16 pertence aos seguintes critérios: CRIT_B, CRIT_D\n",
            "  prtf_it_13 pertence aos seguintes critérios: CRIT_A, CRIT_C\n",
            "\n",
            "Subgrupo: prtf_it_04, prtf_it_16, prtf_it_05\n",
            "  prtf_it_04 pertence aos seguintes critérios: CRIT_A, CRIT_B, CRIT_D\n",
            "  prtf_it_16 pertence aos seguintes critérios: CRIT_B, CRIT_D\n",
            "  prtf_it_05 pertence aos seguintes critérios: CRIT_B, CRIT_C\n",
            "\n",
            "Subgrupo: prtf_it_04, prtf_it_13, prtf_it_05\n",
            "  prtf_it_04 pertence aos seguintes critérios: CRIT_A, CRIT_B, CRIT_D\n",
            "  prtf_it_13 pertence aos seguintes critérios: CRIT_A, CRIT_C\n",
            "  prtf_it_05 pertence aos seguintes critérios: CRIT_B, CRIT_C\n",
            "\n",
            "Subgrupo: prtf_it_10, prtf_it_16, prtf_it_13\n",
            "  prtf_it_10 pertence aos seguintes critérios: CRIT_A, CRIT_D\n",
            "  prtf_it_16 pertence aos seguintes critérios: CRIT_B, CRIT_D\n",
            "  prtf_it_13 pertence aos seguintes critérios: CRIT_A, CRIT_C\n",
            "\n",
            "Subgrupo: prtf_it_10, prtf_it_16, prtf_it_05\n",
            "  prtf_it_10 pertence aos seguintes critérios: CRIT_A, CRIT_D\n",
            "  prtf_it_16 pertence aos seguintes critérios: CRIT_B, CRIT_D\n",
            "  prtf_it_05 pertence aos seguintes critérios: CRIT_B, CRIT_C\n",
            "\n",
            "Subgrupo: prtf_it_10, prtf_it_13, prtf_it_05\n",
            "  prtf_it_10 pertence aos seguintes critérios: CRIT_A, CRIT_D\n",
            "  prtf_it_13 pertence aos seguintes critérios: CRIT_A, CRIT_C\n",
            "  prtf_it_05 pertence aos seguintes critérios: CRIT_B, CRIT_C\n",
            "\n",
            "Subgrupo: prtf_it_16, prtf_it_13, prtf_it_05\n",
            "  prtf_it_16 pertence aos seguintes critérios: CRIT_B, CRIT_D\n",
            "  prtf_it_13 pertence aos seguintes critérios: CRIT_A, CRIT_C\n",
            "  prtf_it_05 pertence aos seguintes critérios: CRIT_B, CRIT_C\n"
          ]
        }
      ]
    },
    {
      "cell_type": "code",
      "source": [],
      "metadata": {
        "id": "pfBdJNlBUvpP"
      },
      "execution_count": null,
      "outputs": []
    }
  ]
}